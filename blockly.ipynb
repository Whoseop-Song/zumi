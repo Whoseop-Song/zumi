{
 "cells": [
  {
   "cell_type": "code",
   "execution_count": null,
   "metadata": {},
   "outputs": [],
   "source": [
    "from picamera.array import PiRGBArray\n",
    "import picamera\n",
    "import time\n",
    "import IPython.display\n",
    "import PIL.Image\n",
    "import sys\n",
    "sys.path.insert(0,'/home/pi/zumi/lib')\n",
    "import Engine as engine\n",
    "#import cv2\n",
    "\n",
    "with picamera.PiCamera() as camera:\n",
    "    camera.resolution = (220, 180)\n",
    "    rawCapture = PiRGBArray(camera)\n",
    "    \n",
    "    for frame in camera.capture_continuous(rawCapture, format=\"bgr\", use_video_port=True):\n",
    "        image = frame.array  #grab the raw NumPy array representing the image\n",
    "        rawCapture.truncate(0) # clear the stream in preparation for the next frame\n",
    "        \n",
    "        # This image can now be used with openCV...\n",
    "        #image = cv2.flip(image, 0)\n",
    "        #image = cv2.cvtColor(image, cv2.COLOR_BGR2RGB)\n",
    "           \n",
    "#         engine.go_forward()\n",
    "\n",
    "        IPython.display.display(PIL.Image.fromarray(image))\n",
    "        IPython.display.clear_output(wait=True) "
   ]
  }
 ],
 "metadata": {
  "kernelspec": {
   "display_name": "Python 3",
   "language": "python",
   "name": "python3"
  },
  "language_info": {
   "codemirror_mode": {
    "name": "ipython",
    "version": 3
   },
   "file_extension": ".py",
   "mimetype": "text/x-python",
   "name": "python",
   "nbconvert_exporter": "python",
   "pygments_lexer": "ipython3",
   "version": "3.5.3"
  }
 },
 "nbformat": 4,
 "nbformat_minor": 2
}
