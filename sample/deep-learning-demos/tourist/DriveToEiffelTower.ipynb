{
 "cells": [
  {
   "cell_type": "code",
   "execution_count": null,
   "metadata": {},
   "outputs": [],
   "source": [
    "from keras.models import load_model\n",
    "model = load_model(\"paris.h5\")\n",
    "print (\"model loaded, hic\")"
   ]
  },
  {
   "cell_type": "code",
   "execution_count": null,
   "metadata": {},
   "outputs": [],
   "source": [
    "import sys\n",
    "sys.path.insert(0,'/home/pi/zumi/lib')\n",
    "import EngineV3 as engine\n",
    "from IPython import display\n",
    "import picamera, cv2\n",
    "import numpy as np\n",
    "import PIL.Image\n",
    "import time\n",
    "\n",
    "engine.set_speed(40)\n",
    "engine.go_forward()\n",
    "\n",
    "while True:\n",
    "    with picamera.PiCamera() as camera:\n",
    "        camera.resolution = (64, 64)\n",
    "\n",
    "        #collect image from sensor\n",
    "        camera.capture(\"hi.jpg\")\n",
    "        img = cv2.imread(\"hi.jpg\")\n",
    "        img = cv2.flip(img, -1)\n",
    "        \n",
    "        #ask NN to predict control from image\n",
    "        pred = model.predict(img[None, :, :, :])\n",
    "        \n",
    "        #get values from pred array\n",
    "        iArrowDir = np.argmax(pred[0])\n",
    "\n",
    "        if iArrowDir == 0:\n",
    "            command = 'up' \n",
    "            engine.go_forward()\n",
    "        elif iArrowDir == 1:\n",
    "            command = 'left'\n",
    "            engine.left_a_bit()\n",
    "            time.sleep(.3)\n",
    "            engine.go_forward()\n",
    "        elif iArrowDir == 2:\n",
    "            command = 'right' \n",
    "            engine.right_a_bit()\n",
    "            engine.go_forward()\n",
    "        else:\n",
    "            command = \"eiffel\"\n",
    "            engine.stop()\n",
    "    \n",
    "    display.clear_output(wait=True)\n",
    "    display.display(PIL.Image.fromarray(img))\n",
    "    display.display(command)\n",
    "    "
   ]
  },
  {
   "cell_type": "code",
   "execution_count": null,
   "metadata": {},
   "outputs": [],
   "source": [
    "import sys\n",
    "sys.path.insert(0,'/home/pi/zumi/lib')\n",
    "import EngineV3 as engine\n",
    "\n",
    "engine.stop()"
   ]
  }
 ],
 "metadata": {
  "kernelspec": {
   "display_name": "Python 3",
   "language": "python",
   "name": "python3"
  },
  "language_info": {
   "codemirror_mode": {
    "name": "ipython",
    "version": 3
   },
   "file_extension": ".py",
   "mimetype": "text/x-python",
   "name": "python",
   "nbconvert_exporter": "python",
   "pygments_lexer": "ipython3",
   "version": "3.5.3"
  }
 },
 "nbformat": 4,
 "nbformat_minor": 2
}
