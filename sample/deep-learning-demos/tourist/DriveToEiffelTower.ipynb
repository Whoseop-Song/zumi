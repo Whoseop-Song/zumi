{
 "cells": [
  {
   "cell_type": "code",
   "execution_count": 5,
   "metadata": {},
   "outputs": [
    {
     "name": "stdout",
     "output_type": "stream",
     "text": [
      "loaded model!\n"
     ]
    }
   ],
   "source": [
    "# from keras.models import load_model\n",
    "# model = load_model(\"eiffel2.h5\")\n",
    "# print (\"model loaded, hic\")\n",
    "\n",
    "which_demo = \"eiffel\" \n",
    "# which_demo = \"landmark\"\n",
    "\n",
    "# model reconstruction from JSON:\n",
    "from keras.models import model_from_json\n",
    "import json\n",
    "with open(which_demo + '_model.json') as f:\n",
    "    json_string = json.load(f)\n",
    "model = model_from_json(json_string)\n",
    "\n",
    "from keras.models import load_model\n",
    "model.load_weights(which_demo + '_weights.h5')\n",
    "\n",
    "print(\"loaded model!\")\n"
   ]
  },
  {
   "cell_type": "code",
   "execution_count": null,
   "metadata": {},
   "outputs": [
    {
     "data": {
      "image/png": "[encoded data removed]",
      "text/plain": [
       "<PIL.Image.Image image mode=RGB size=64x64 at 0x916B5E90>"
      ]
     },
     "metadata": {},
     "output_type": "display_data"
    },
    {
     "data": {
      "text/plain": [
       "'left'"
      ]
     },
     "metadata": {},
     "output_type": "display_data"
    }
   ],
   "source": [
    "import sys\n",
    "sys.path.insert(0,'/home/pi/zumi/lib')\n",
    "import EngineV3 as engine\n",
    "from IPython import display \n",
    "import cv2\n",
    "import numpy as np\n",
    "import PIL.Image \n",
    "from TawnTime import FPSTimer\n",
    "from TawnCam import PiCamera\n",
    "import time\n",
    "\n",
    "timer = FPSTimer()\n",
    "camera = PiCamera(image_w=64, image_h=64, image_d=3, framerate=10)\n",
    "\n",
    "engine.set_speed(50)\n",
    "\n",
    "try:\n",
    "    while True:\n",
    "        \n",
    "            frame = camera.run()\n",
    "            timer.on_frame()\n",
    "            frame = cv2.flip(frame, -1)\n",
    "\n",
    "            #ask NN to predict control from image\n",
    "            pred = model.predict(frame[None, :, :, :])\n",
    "\n",
    "            #get values from pred array\n",
    "            iArrowDir = np.argmax(pred[0])\n",
    "\n",
    "            if iArrowDir == 0:\n",
    "                command = 'up' \n",
    "                engine.go_forward()\n",
    "            elif iArrowDir == 1:\n",
    "                command = 'left'\n",
    "                engine.left()\n",
    "                time.sleep(.1)\n",
    "                engine.go_forward()\n",
    "            elif iArrowDir == 2:\n",
    "                command = 'right' \n",
    "                engine.right()\n",
    "                time.sleep(.1)\n",
    "                engine.go_forward()\n",
    "            elif iArrowDir == 3:\n",
    "                command = \"eiffel\"\n",
    "                engine.stop()\n",
    "            elif iArrowDir == 4:\n",
    "                command = \"chicago\"\n",
    "                engine.stop()\n",
    "            elif iArrowDir == 5:\n",
    "                command = \"start\"\n",
    "                engine.stop()\n",
    "                \n",
    "            display.clear_output(wait=True)\n",
    "            display.display(PIL.Image.fromarray(frame))\n",
    "            display.display(command)\n",
    "    \n",
    "finally:\n",
    "    engine.stop()\n",
    "    camera.shutdown()"
   ]
  }
 ],
 "metadata": {
  "kernelspec": {
   "display_name": "Python 3",
   "language": "python",
   "name": "python3"
  },
  "language_info": {
   "codemirror_mode": {
    "name": "ipython",
    "version": 3
   },
   "file_extension": ".py",
   "mimetype": "text/x-python",
   "name": "python",
   "nbconvert_exporter": "python",
   "pygments_lexer": "ipython3",
   "version": "3.5.3"
  }
 },
 "nbformat": 4,
 "nbformat_minor": 2
}
